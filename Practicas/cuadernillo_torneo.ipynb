{
 "cells": [
  {
   "cell_type": "markdown",
   "metadata": {},
   "source": [
    "**Autores:**\n",
    "\n",
    "1. **Anny Álvarez Nogales**\n",
    "2. **Jorge del Castillo Gómez**"
   ]
  },
  {
   "cell_type": "markdown",
   "metadata": {
    "id": "MHRJ5fOq0XlQ"
   },
   "source": [
    "# Instalar dependencias"
   ]
  },
  {
   "cell_type": "code",
   "execution_count": 1,
   "metadata": {
    "colab": {
     "base_uri": "https://localhost:8080/"
    },
    "executionInfo": {
     "elapsed": 13788,
     "status": "ok",
     "timestamp": 1734534525668,
     "user": {
      "displayName": "Jorge del Castillo Gómez",
      "userId": "03598089572284782268"
     },
     "user_tz": -60
    },
    "id": "C8Ar_4AhzzC1",
    "outputId": "ed57c059-1205-4144-f6c3-7fd65b980efc"
   },
   "outputs": [
    {
     "name": "stdout",
     "output_type": "stream",
     "text": [
      "Collecting torch_geometric\n",
      "  Downloading torch_geometric-2.6.1-py3-none-any.whl.metadata (63 kB)\n",
      "\u001b[?25l     \u001b[90m━━━━━━━━━━━━━━━━━━━━━━━━━━━━━━━━━━━━━━━━\u001b[0m \u001b[32m0.0/63.1 kB\u001b[0m \u001b[31m?\u001b[0m eta \u001b[36m-:--:--\u001b[0m\r",
      "\u001b[2K     \u001b[90m━━━━━━━━━━━━━━━━━━━━━━━━━━━━━━━━━━━━━━━━\u001b[0m \u001b[32m63.1/63.1 kB\u001b[0m \u001b[31m3.5 MB/s\u001b[0m eta \u001b[36m0:00:00\u001b[0m\n",
      "\u001b[?25hRequirement already satisfied: aiohttp in /usr/local/lib/python3.10/dist-packages (from torch_geometric) (3.11.10)\n",
      "Requirement already satisfied: fsspec in /usr/local/lib/python3.10/dist-packages (from torch_geometric) (2024.10.0)\n",
      "Requirement already satisfied: jinja2 in /usr/local/lib/python3.10/dist-packages (from torch_geometric) (3.1.4)\n",
      "Requirement already satisfied: numpy in /usr/local/lib/python3.10/dist-packages (from torch_geometric) (1.26.4)\n",
      "Requirement already satisfied: psutil>=5.8.0 in /usr/local/lib/python3.10/dist-packages (from torch_geometric) (5.9.5)\n",
      "Requirement already satisfied: pyparsing in /usr/local/lib/python3.10/dist-packages (from torch_geometric) (3.2.0)\n",
      "Requirement already satisfied: requests in /usr/local/lib/python3.10/dist-packages (from torch_geometric) (2.32.3)\n",
      "Requirement already satisfied: tqdm in /usr/local/lib/python3.10/dist-packages (from torch_geometric) (4.66.6)\n",
      "Requirement already satisfied: aiohappyeyeballs>=2.3.0 in /usr/local/lib/python3.10/dist-packages (from aiohttp->torch_geometric) (2.4.4)\n",
      "Requirement already satisfied: aiosignal>=1.1.2 in /usr/local/lib/python3.10/dist-packages (from aiohttp->torch_geometric) (1.3.2)\n",
      "Requirement already satisfied: async-timeout<6.0,>=4.0 in /usr/local/lib/python3.10/dist-packages (from aiohttp->torch_geometric) (4.0.3)\n",
      "Requirement already satisfied: attrs>=17.3.0 in /usr/local/lib/python3.10/dist-packages (from aiohttp->torch_geometric) (24.2.0)\n",
      "Requirement already satisfied: frozenlist>=1.1.1 in /usr/local/lib/python3.10/dist-packages (from aiohttp->torch_geometric) (1.5.0)\n",
      "Requirement already satisfied: multidict<7.0,>=4.5 in /usr/local/lib/python3.10/dist-packages (from aiohttp->torch_geometric) (6.1.0)\n",
      "Requirement already satisfied: propcache>=0.2.0 in /usr/local/lib/python3.10/dist-packages (from aiohttp->torch_geometric) (0.2.1)\n",
      "Requirement already satisfied: yarl<2.0,>=1.17.0 in /usr/local/lib/python3.10/dist-packages (from aiohttp->torch_geometric) (1.18.3)\n",
      "Requirement already satisfied: MarkupSafe>=2.0 in /usr/local/lib/python3.10/dist-packages (from jinja2->torch_geometric) (3.0.2)\n",
      "Requirement already satisfied: charset-normalizer<4,>=2 in /usr/local/lib/python3.10/dist-packages (from requests->torch_geometric) (3.4.0)\n",
      "Requirement already satisfied: idna<4,>=2.5 in /usr/local/lib/python3.10/dist-packages (from requests->torch_geometric) (3.10)\n",
      "Requirement already satisfied: urllib3<3,>=1.21.1 in /usr/local/lib/python3.10/dist-packages (from requests->torch_geometric) (2.2.3)\n",
      "Requirement already satisfied: certifi>=2017.4.17 in /usr/local/lib/python3.10/dist-packages (from requests->torch_geometric) (2024.8.30)\n",
      "Requirement already satisfied: typing-extensions>=4.1.0 in /usr/local/lib/python3.10/dist-packages (from multidict<7.0,>=4.5->aiohttp->torch_geometric) (4.12.2)\n",
      "Downloading torch_geometric-2.6.1-py3-none-any.whl (1.1 MB)\n",
      "\u001b[2K   \u001b[90m━━━━━━━━━━━━━━━━━━━━━━━━━━━━━━━━━━━━━━━━\u001b[0m \u001b[32m1.1/1.1 MB\u001b[0m \u001b[31m20.7 MB/s\u001b[0m eta \u001b[36m0:00:00\u001b[0m\n",
      "\u001b[?25hInstalling collected packages: torch_geometric\n",
      "Successfully installed torch_geometric-2.6.1\n"
     ]
    }
   ],
   "source": [
    "!pip install torch_geometric"
   ]
  },
  {
   "cell_type": "markdown",
   "metadata": {
    "id": "oywdRiO90dBy"
   },
   "source": [
    "# Cargar el dataset"
   ]
  },
  {
   "cell_type": "code",
   "execution_count": 2,
   "metadata": {
    "executionInfo": {
     "elapsed": 9665,
     "status": "ok",
     "timestamp": 1734534554232,
     "user": {
      "displayName": "Jorge del Castillo Gómez",
      "userId": "03598089572284782268"
     },
     "user_tz": -60
    },
    "id": "63VQAhc-zn8d"
   },
   "outputs": [],
   "source": [
    "import json\n",
    "import torch\n",
    "import os.path as osp\n",
    "from torch_geometric.data import InMemoryDataset, download_url\n",
    "\n",
    "class TournamentDataset(InMemoryDataset):\n",
    "\n",
    "    TORUNAMENT_URL = 'https://drive.upm.es/s/mnsESjBucKUKsEg/download'\n",
    "\n",
    "    def __init__(self, root, transform=None, pre_transform=None, pre_filter=None):\n",
    "        super().__init__(root, transform, pre_transform, pre_filter)\n",
    "        self.load(self.processed_paths[0])\n",
    "\n",
    "    @property\n",
    "    def raw_file_names(self):\n",
    "        return ['tournament.pt']\n",
    "\n",
    "    @property\n",
    "    def processed_file_names(self):\n",
    "        return ['tournament.pt']\n",
    "\n",
    "    @property\n",
    "    def num_classes(self):\n",
    "        return 3\n",
    "\n",
    "    @property\n",
    "    def num_features(self):\n",
    "        return 500\n",
    "\n",
    "    def download(self):\n",
    "        download_url(self.TORUNAMENT_URL, self.raw_dir, filename='tournament.pt')\n",
    "\n",
    "    def process(self):\n",
    "        data_list = [torch.load(osp.join(self.raw_dir, 'tournament.pt'))]\n",
    "\n",
    "        if self.pre_filter is not None:\n",
    "            data_list = [data for data in data_list if self.pre_filter(data)]\n",
    "\n",
    "        if self.pre_transform is not None:\n",
    "            data_list = [self.pre_transform(data) for data in data_list]\n",
    "\n",
    "        self.save(data_list, self.processed_paths[0])\n",
    "\n",
    "    def create_test_json(self, model, file_path, device=\"cpu\"):\n",
    "        data = self[0]\n",
    "\n",
    "        model = model.to(device)\n",
    "        data = data.to(device)\n",
    "\n",
    "        model.eval()\n",
    "        out = model(data.x, data.edge_index)\n",
    "        y_pred = out[data.test_mask].argmax(dim=1)\n",
    "        nid = data.nid[data.test_mask]\n",
    "\n",
    "        pred = {\n",
    "            'nid': nid.detach().cpu().numpy().tolist(),\n",
    "            'y': y_pred.detach().cpu().numpy().tolist()\n",
    "        }\n",
    "\n",
    "        with open(file_path, 'w') as f:\n",
    "            json.dump(pred, f)\n"
   ]
  },
  {
   "cell_type": "code",
   "execution_count": 3,
   "metadata": {
    "colab": {
     "base_uri": "https://localhost:8080/"
    },
    "executionInfo": {
     "elapsed": 58912,
     "status": "ok",
     "timestamp": 1734534613142,
     "user": {
      "displayName": "Jorge del Castillo Gómez",
      "userId": "03598089572284782268"
     },
     "user_tz": -60
    },
    "id": "BmhQysdi0B7O",
    "outputId": "a7179562-8adc-41bf-91fb-c13af78fd54a"
   },
   "outputs": [
    {
     "name": "stderr",
     "output_type": "stream",
     "text": [
      "Downloading https://drive.upm.es/s/mnsESjBucKUKsEg/download\n",
      "Processing...\n",
      "<ipython-input-2-4ab60909218f>:34: FutureWarning: You are using `torch.load` with `weights_only=False` (the current default value), which uses the default pickle module implicitly. It is possible to construct malicious pickle data which will execute arbitrary code during unpickling (See https://github.com/pytorch/pytorch/blob/main/SECURITY.md#untrusted-models for more details). In a future release, the default value for `weights_only` will be flipped to `True`. This limits the functions that could be executed during unpickling. Arbitrary objects will no longer be allowed to be loaded via this mode unless they are explicitly allowlisted by the user via `torch.serialization.add_safe_globals`. We recommend you start setting `weights_only=True` for any use case where you don't have full control of the loaded file. Please open an issue on GitHub for any issues related to this experimental feature.\n",
      "  data_list = [torch.load(osp.join(self.raw_dir, 'tournament.pt'))]\n",
      "Done!\n"
     ]
    }
   ],
   "source": [
    "dataset = TournamentDataset(\"tournament\")\n",
    "data = dataset[0]"
   ]
  },
  {
   "cell_type": "markdown",
   "metadata": {
    "id": "hh4l8P3e0y7G"
   },
   "source": [
    "# Definir el modelo"
   ]
  },
  {
   "cell_type": "markdown",
   "metadata": {
    "id": "NOsmVCT3lxLU"
   },
   "source": [
    "- Primera prueba: Baseline MLP\n",
    "- Segunda prueba: Graph attention (16,32,64 neuronas) --> con 64 neuronas, 0.88\n",
    "- Tercera prueba: Skip connection Concat (32,64 neuronas) --> con 64 neuronas y 270 epochs, 0.9062\n",
    "- Cuarta prueba: Interpolate Skip connection (Adam, NAdam (empeoramiento))\n",
    "- Quinta prueba (partiendo de la prueba 3), se añade una capa más skip concat --> empeora el mejor modelo\n",
    "- Sexta prueba: se cambia el dropout (a 0.6 y a 0.4)"
   ]
  },
  {
   "cell_type": "code",
   "execution_count": 11,
   "metadata": {
    "executionInfo": {
     "elapsed": 220,
     "status": "ok",
     "timestamp": 1734535423890,
     "user": {
      "displayName": "Jorge del Castillo Gómez",
      "userId": "03598089572284782268"
     },
     "user_tz": -60
    },
    "id": "YINSteCVVfnT"
   },
   "outputs": [],
   "source": [
    "### MODELO 1: GRAPH ATTENTION\n",
    "import torch\n",
    "from torch_geometric.nn import MessagePassing, MLP\n",
    "from torch_geometric.utils import add_self_loops, softmax\n",
    "\n",
    "class CustomGATConv(MessagePassing):\n",
    "    def __init__(self, in_channels, out_channels):\n",
    "        super(CustomGATConv, self).__init__(aggr='sum')\n",
    "        self.lin = torch.nn.Linear(in_channels, out_channels) # transformacion de paso de mensaje\n",
    "        self.mlp_phi = MLP( # va a aprender el valor alpha\n",
    "            in_channels=2*out_channels,\n",
    "            out_channels=1, # salida 1, valor de agregacion\n",
    "            hidden_channels=16,\n",
    "            num_layers=1\n",
    "        )\n",
    "\n",
    "        self.reset_parameters()\n",
    "\n",
    "    def reset_parameters(self):\n",
    "        self.lin.reset_parameters()\n",
    "        self.mlp_phi.reset_parameters()\n",
    "\n",
    "    def forward(self, x, edge_index):\n",
    "        # Add self-loops to the adjacency matrix.\n",
    "        edge_index, _ = add_self_loops(edge_index, num_nodes=x.size(0))\n",
    "\n",
    "        # Linearly transform node feature matrix.\n",
    "        z = self.lin(x)\n",
    "\n",
    "        # Start propagating messages.\n",
    "        return self.propagate(edge_index, size=(z.size(0), z.size(0)), x=z)\n",
    "\n",
    "    def message(self, edge_index_i, x_i, x_j, size_i):\n",
    "        # Compute attention coefficients. x_i es el nodo sobre el que se hace la agregacion, x_j es el vecino\n",
    "        x_ij = torch.cat([x_i, x_j], dim=1)\n",
    "        alpha = self.mlp_phi(x_ij)\n",
    "        alpha = softmax(alpha, edge_index_i, num_nodes=size_i) # edge_index_i aristas del nodo sobre el que se quiere calcular softmax de sus vecinos\n",
    "\n",
    "        return alpha * x_j\n",
    "\n",
    "    def update(self, aggr_out):\n",
    "        # aggr_out has shape [N, out_channels]\n",
    "\n",
    "        # Return new node embeddings.\n",
    "        return aggr_out\n",
    "\n",
    "import torch\n",
    "import torch.nn.functional as F\n",
    "# tambien disponible en GATConv\n",
    "from torch_geometric.nn import GATConv, MLP\n",
    "\n",
    "class GCN(torch.nn.Module):\n",
    "    def __init__(self, node_features, hidden_channels, num_classes):\n",
    "        super(GCN, self).__init__()\n",
    "        self.conv1 = CustomGATConv(node_features, hidden_channels)\n",
    "        self.conv2 = CustomGATConv(hidden_channels, hidden_channels)\n",
    "        self.cls = MLP(in_channels=hidden_channels, out_channels=num_classes, num_layers=2, hidden_channels=hidden_channels)\n",
    "\n",
    "    def forward(self, x, edge_index):\n",
    "        x = self.conv1(x, edge_index)\n",
    "        x = F.relu(x)\n",
    "        x = F.dropout(x, p=0.5, training=self.training)\n",
    "        x = self.conv2(x, edge_index)\n",
    "        x = F.relu(x)\n",
    "        x = F.dropout(x, p=0.5, training=self.training)\n",
    "        x = self.cls(x)\n",
    "        return x\n",
    "\n",
    "model = GCN(500, 64, 3) # 0.88\n"
   ]
  },
  {
   "cell_type": "markdown",
   "metadata": {
    "id": "MD7Z9yIplQCH"
   },
   "source": [
    "#### Mejor modelo: SkipConcatConv "
   ]
  },
  {
   "cell_type": "code",
   "execution_count": 87,
   "metadata": {
    "executionInfo": {
     "elapsed": 197,
     "status": "ok",
     "timestamp": 1734539597810,
     "user": {
      "displayName": "Jorge del Castillo Gómez",
      "userId": "03598089572284782268"
     },
     "user_tz": -60
    },
    "id": "RKu2q6YIViE7"
   },
   "outputs": [],
   "source": [
    "### concat skip connections\n",
    "import torch\n",
    "from torch.nn import Linear, Parameter\n",
    "from torch_geometric.nn import MessagePassing\n",
    "\n",
    "class SkipConcatConv(MessagePassing):\n",
    "    def __init__(self, in_channels, out_channels):\n",
    "        super(SkipConcatConv, self).__init__(aggr='sum')\n",
    "\n",
    "        self.W_theta = Linear(in_channels + out_channels, out_channels)\n",
    "        self.b_theta = Parameter(torch.Tensor(out_channels))\n",
    "\n",
    "        self.W_phi = Linear(in_channels, out_channels)\n",
    "        self.b_phi = Parameter(torch.Tensor(out_channels))\n",
    "\n",
    "        self.reset_parameters()\n",
    "\n",
    "    def reset_parameters(self):\n",
    "        self.W_theta.reset_parameters()\n",
    "        self.b_theta.data.zero_()\n",
    "        self.W_phi.reset_parameters()\n",
    "        self.b_phi.data.zero_()\n",
    "\n",
    "    def forward(self, x, edge_index):\n",
    "        return self.propagate(edge_index, x=x, central_node=x)\n",
    "\n",
    "    def message(self, x_j):\n",
    "        return self.W_phi(x_j) + self.b_phi\n",
    "\n",
    "    def update(self, aggr_out, central_node):\n",
    "        a = torch.concat([central_node, aggr_out], dim=1)\n",
    "        return self.W_theta(a) + self.b_theta\n",
    "\n",
    "import torch\n",
    "import torch.nn.functional as F\n",
    "# tambien disponible en GATConv\n",
    "from torch_geometric.nn import MLP\n",
    "\n",
    "class GCN(torch.nn.Module):\n",
    "    def __init__(self, node_features, hidden_channels, num_classes):\n",
    "        super(GCN, self).__init__()\n",
    "        self.conv1 = SkipConcatConv(node_features, hidden_channels)\n",
    "        self.conv2 = SkipConcatConv(hidden_channels, hidden_channels)\n",
    "        self.cls = MLP(in_channels=hidden_channels, out_channels=num_classes, num_layers=2, hidden_channels=hidden_channels)\n",
    "\n",
    "    def forward(self, x, edge_index):\n",
    "        x = self.conv1(x, edge_index)\n",
    "        x = F.relu(x)\n",
    "        x = F.dropout(x, p=0.5, training=self.training)\n",
    "        x = self.conv2(x, edge_index)\n",
    "        x = F.relu(x)\n",
    "        x = F.dropout(x, p=0.5, training=self.training)\n",
    "        x = self.cls(x)\n",
    "        return x\n",
    "\n",
    "model = GCN(500, 64, 3) # 0.90"
   ]
  },
  {
   "cell_type": "markdown",
   "metadata": {
    "id": "Hik7po3VlR-d"
   },
   "source": [
    "#### Pruebas secundarias"
   ]
  },
  {
   "cell_type": "code",
   "execution_count": 33,
   "metadata": {
    "executionInfo": {
     "elapsed": 225,
     "status": "ok",
     "timestamp": 1734536725406,
     "user": {
      "displayName": "Jorge del Castillo Gómez",
      "userId": "03598089572284782268"
     },
     "user_tz": -60
    },
    "id": "8DP3IquEZ_6n"
   },
   "outputs": [],
   "source": [
    "### interpolate skip connection\n",
    "import torch\n",
    "from torch.nn import Linear, Parameter\n",
    "from torch_geometric.nn import MessagePassing\n",
    "\n",
    "class InterpolateSkipConv(MessagePassing):\n",
    "    def __init__(self, in_channels, out_channels):\n",
    "        super(InterpolateSkipConv, self).__init__(aggr='sum')\n",
    "\n",
    "        self.W_theta = Linear(in_channels, out_channels)\n",
    "        self.b_theta = Parameter(torch.Tensor(out_channels))\n",
    "\n",
    "        self.W_phi = Linear(in_channels, out_channels)\n",
    "        self.b_phi = Parameter(torch.Tensor(out_channels))\n",
    "\n",
    "        self.alpha = Parameter(torch.Tensor(1))\n",
    "\n",
    "        self.reset_parameters()\n",
    "\n",
    "    def reset_parameters(self):\n",
    "        self.W_theta.reset_parameters()\n",
    "        self.b_theta.data.zero_()\n",
    "        self.W_phi.reset_parameters()\n",
    "        self.b_phi.data.zero_()\n",
    "        self.alpha.data.fill_(0.5)\n",
    "\n",
    "    def forward(self, x, edge_index):\n",
    "        return self.propagate(edge_index, x=x, central_node=x)\n",
    "\n",
    "    def message(self, x_j):\n",
    "        return self.W_phi(x_j) + self.b_phi\n",
    "\n",
    "    def update(self, aggr_out, central_node):\n",
    "        z_i = self.W_theta(central_node) + self.b_theta\n",
    "        return self.alpha * z_i + (1 - self.alpha) * aggr_out\n",
    "\n",
    "import torch\n",
    "import torch.nn.functional as F\n",
    "# tambien disponible en GATConv\n",
    "from torch_geometric.nn import MLP\n",
    "\n",
    "class GCN(torch.nn.Module):\n",
    "    def __init__(self, node_features, hidden_channels, num_classes):\n",
    "        super(GCN, self).__init__()\n",
    "        self.conv1 = InterpolateSkipConv(node_features, hidden_channels)\n",
    "        self.conv2 = InterpolateSkipConv(hidden_channels, hidden_channels)\n",
    "        self.cls = MLP(in_channels=hidden_channels, out_channels=num_classes, num_layers=2, hidden_channels=hidden_channels)\n",
    "\n",
    "    def forward(self, x, edge_index):\n",
    "        x = self.conv1(x, edge_index)\n",
    "        x = F.relu(x)\n",
    "        x = F.dropout(x, p=0.5, training=self.training)\n",
    "        x = self.conv2(x, edge_index)\n",
    "        x = F.relu(x)\n",
    "        x = F.dropout(x, p=0.5, training=self.training)\n",
    "        x = self.cls(x)\n",
    "        return x\n",
    "\n",
    "model = GCN(500,64,3)"
   ]
  },
  {
   "cell_type": "code",
   "execution_count": 62,
   "metadata": {
    "executionInfo": {
     "elapsed": 188,
     "status": "ok",
     "timestamp": 1734537716984,
     "user": {
      "displayName": "Jorge del Castillo Gómez",
      "userId": "03598089572284782268"
     },
     "user_tz": -60
    },
    "id": "lfJZ2PDjdRTY"
   },
   "outputs": [],
   "source": [
    "### concat skip connections\n",
    "import torch\n",
    "from torch.nn import Linear, Parameter\n",
    "from torch_geometric.nn import MessagePassing\n",
    "\n",
    "class SkipConcatConv(MessagePassing):\n",
    "    def __init__(self, in_channels, out_channels):\n",
    "        super(SkipConcatConv, self).__init__(aggr='sum')\n",
    "\n",
    "        self.W_theta = Linear(in_channels + out_channels, out_channels)\n",
    "        self.b_theta = Parameter(torch.Tensor(out_channels))\n",
    "\n",
    "        self.W_phi = Linear(in_channels, out_channels)\n",
    "        self.b_phi = Parameter(torch.Tensor(out_channels))\n",
    "\n",
    "        self.reset_parameters()\n",
    "\n",
    "    def reset_parameters(self):\n",
    "        self.W_theta.reset_parameters()\n",
    "        self.b_theta.data.zero_()\n",
    "        self.W_phi.reset_parameters()\n",
    "        self.b_phi.data.zero_()\n",
    "\n",
    "    def forward(self, x, edge_index):\n",
    "        return self.propagate(edge_index, x=x, central_node=x)\n",
    "\n",
    "    def message(self, x_j):\n",
    "        return self.W_phi(x_j) + self.b_phi\n",
    "\n",
    "    def update(self, aggr_out, central_node):\n",
    "        a = torch.concat([central_node, aggr_out], dim=1)\n",
    "        return self.W_theta(a) + self.b_theta\n",
    "\n",
    "import torch\n",
    "import torch.nn.functional as F\n",
    "# tambien disponible en GATConv\n",
    "from torch_geometric.nn import MLP\n",
    "\n",
    "class GCN(torch.nn.Module):\n",
    "    def __init__(self, node_features, hidden_channels, num_classes):\n",
    "        super(GCN, self).__init__()\n",
    "        self.conv1 = SkipConcatConv(node_features, hidden_channels)\n",
    "        self.conv2 = SkipConcatConv(hidden_channels, hidden_channels)\n",
    "        self.conv3 = SkipConcatConv(hidden_channels, hidden_channels)\n",
    "        self.cls = MLP(in_channels=hidden_channels, out_channels=num_classes, num_layers=2, hidden_channels=hidden_channels)\n",
    "\n",
    "    def forward(self, x, edge_index):\n",
    "        x = self.conv1(x, edge_index)\n",
    "        x = F.relu(x)\n",
    "        x = F.dropout(x, p=0.5, training=self.training)\n",
    "        x = self.conv2(x, edge_index)\n",
    "        x = F.relu(x)\n",
    "        x = F.dropout(x, p=0.5, training=self.training)\n",
    "        x = self.conv3(x, edge_index)\n",
    "        x = F.relu(x)\n",
    "        x = F.dropout(x, p=0.5, training=self.training)\n",
    "        x = self.cls(x)\n",
    "        return x\n",
    "\n",
    "model = GCN(500, 64, 3)"
   ]
  },
  {
   "cell_type": "code",
   "execution_count": 4,
   "metadata": {
    "executionInfo": {
     "elapsed": 5,
     "status": "ok",
     "timestamp": 1734534613142,
     "user": {
      "displayName": "Jorge del Castillo Gómez",
      "userId": "03598089572284782268"
     },
     "user_tz": -60
    },
    "id": "VjsJmmx_02Ht"
   },
   "outputs": [],
   "source": [
    "# from torch_geometric.nn import MLP\n",
    "\n",
    "# model = MLP(\n",
    "#     in_channels=dataset.num_node_features,\n",
    "#     out_channels=dataset.num_classes,\n",
    "#     num_layers=2,\n",
    "#     hidden_channels=32\n",
    "# )"
   ]
  },
  {
   "cell_type": "code",
   "execution_count": 67,
   "metadata": {
    "executionInfo": {
     "elapsed": 198,
     "status": "ok",
     "timestamp": 1734538033309,
     "user": {
      "displayName": "Jorge del Castillo Gómez",
      "userId": "03598089572284782268"
     },
     "user_tz": -60
    },
    "id": "pyDoa69VhFal"
   },
   "outputs": [],
   "source": [
    "### concat skip connections con mean\n",
    "import torch\n",
    "from torch.nn import Linear, Parameter\n",
    "from torch_geometric.nn import MessagePassing\n",
    "\n",
    "class SkipConcatConv(MessagePassing):\n",
    "    def __init__(self, in_channels, out_channels):\n",
    "        super(SkipConcatConv, self).__init__(aggr='mean')\n",
    "\n",
    "        self.W_theta = Linear(in_channels + out_channels, out_channels)\n",
    "        self.b_theta = Parameter(torch.Tensor(out_channels))\n",
    "\n",
    "        self.W_phi = Linear(in_channels, out_channels)\n",
    "        self.b_phi = Parameter(torch.Tensor(out_channels))\n",
    "\n",
    "        self.reset_parameters()\n",
    "\n",
    "    def reset_parameters(self):\n",
    "        self.W_theta.reset_parameters()\n",
    "        self.b_theta.data.zero_()\n",
    "        self.W_phi.reset_parameters()\n",
    "        self.b_phi.data.zero_()\n",
    "\n",
    "    def forward(self, x, edge_index):\n",
    "        return self.propagate(edge_index, x=x, central_node=x)\n",
    "\n",
    "    def message(self, x_j):\n",
    "        return self.W_phi(x_j) + self.b_phi\n",
    "\n",
    "    def update(self, aggr_out, central_node):\n",
    "        a = torch.concat([central_node, aggr_out], dim=1)\n",
    "        return self.W_theta(a) + self.b_theta\n",
    "\n",
    "import torch\n",
    "import torch.nn.functional as F\n",
    "# tambien disponible en GATConv\n",
    "from torch_geometric.nn import MLP\n",
    "\n",
    "class GCN(torch.nn.Module):\n",
    "    def __init__(self, node_features, hidden_channels, num_classes):\n",
    "        super(GCN, self).__init__()\n",
    "        self.conv1 = SkipConcatConv(node_features, hidden_channels)\n",
    "        self.conv2 = SkipConcatConv(hidden_channels, hidden_channels)\n",
    "        self.cls = MLP(in_channels=hidden_channels, out_channels=num_classes, num_layers=2, hidden_channels=hidden_channels)\n",
    "\n",
    "    def forward(self, x, edge_index):\n",
    "        x = self.conv1(x, edge_index)\n",
    "        x = F.relu(x)\n",
    "        x = F.dropout(x, p=0.5, training=self.training)\n",
    "        x = self.conv2(x, edge_index)\n",
    "        x = F.relu(x)\n",
    "        x = F.dropout(x, p=0.5, training=self.training)\n",
    "        x = self.cls(x)\n",
    "        return x\n",
    "\n",
    "model = GCN(500, 64, 3) # 0.90"
   ]
  },
  {
   "cell_type": "markdown",
   "metadata": {
    "id": "S3FL6Pya1DlD"
   },
   "source": [
    "# Entrenar el modelo"
   ]
  },
  {
   "cell_type": "code",
   "execution_count": 76,
   "metadata": {
    "colab": {
     "base_uri": "https://localhost:8080/"
    },
    "executionInfo": {
     "elapsed": 3570,
     "status": "ok",
     "timestamp": 1734538466556,
     "user": {
      "displayName": "Jorge del Castillo Gómez",
      "userId": "03598089572284782268"
     },
     "user_tz": -60
    },
    "id": "aGG6-VFX1F3r",
    "outputId": "afa066cf-8fed-44eb-c972-6796427edad1"
   },
   "outputs": [
    {
     "name": "stdout",
     "output_type": "stream",
     "text": [
      "Epoch 0: Loss 1.153319239616394\n",
      "Epoch 10: Loss 0.8771823048591614\n",
      "Epoch 20: Loss 0.6717701554298401\n",
      "Epoch 30: Loss 0.5114012360572815\n",
      "Epoch 40: Loss 0.4074685275554657\n",
      "Epoch 50: Loss 0.3176323175430298\n",
      "Epoch 60: Loss 0.2591296136379242\n",
      "Epoch 70: Loss 0.21291786432266235\n",
      "Epoch 80: Loss 0.2477327138185501\n",
      "Epoch 90: Loss 0.2366335093975067\n",
      "Epoch 100: Loss 0.19340026378631592\n",
      "Epoch 110: Loss 0.15058842301368713\n",
      "Epoch 120: Loss 0.1319863200187683\n",
      "Epoch 130: Loss 0.11817160248756409\n",
      "Epoch 140: Loss 0.43964654207229614\n",
      "Epoch 150: Loss 0.3332468867301941\n",
      "Epoch 160: Loss 0.3002515137195587\n",
      "Epoch 170: Loss 0.27460795640945435\n",
      "Epoch 180: Loss 0.3070397973060608\n",
      "Epoch 190: Loss 0.2602943778038025\n",
      "Epoch 200: Loss 0.23071227967739105\n",
      "Epoch 210: Loss 0.2433076798915863\n",
      "Epoch 220: Loss 0.19671863317489624\n",
      "Epoch 230: Loss 0.1759236603975296\n",
      "Epoch 240: Loss 0.15649887919425964\n",
      "Epoch 250: Loss 0.15312793850898743\n",
      "Epoch 260: Loss 0.12964777648448944\n"
     ]
    }
   ],
   "source": [
    "import torch\n",
    "from torch.nn import CrossEntropyLoss\n",
    "from torch.optim import Adam\n",
    "\n",
    "device = 'cuda' if torch.cuda.is_available() else 'cpu'\n",
    "model = model.to(device)\n",
    "\n",
    "optimizer = Adam(model.parameters(), lr=0.01, weight_decay=5e-4)\n",
    "optm_func = CrossEntropyLoss()\n",
    "\n",
    "data = data.to(device)\n",
    "\n",
    "model.train()\n",
    "for epoch in range(270):\n",
    "    optimizer.zero_grad()\n",
    "    out = model(data.x, data.edge_index)\n",
    "    loss = optm_func(out[data.train_mask], data.y[data.train_mask])\n",
    "    loss.backward()\n",
    "    optimizer.step()\n",
    "\n",
    "    if epoch % 10 == 0:\n",
    "        print(f\"Epoch {epoch}: Loss {loss.item()}\")"
   ]
  },
  {
   "cell_type": "code",
   "execution_count": 88,
   "metadata": {
    "colab": {
     "base_uri": "https://localhost:8080/"
    },
    "executionInfo": {
     "elapsed": 3439,
     "status": "ok",
     "timestamp": 1734539607345,
     "user": {
      "displayName": "Jorge del Castillo Gómez",
      "userId": "03598089572284782268"
     },
     "user_tz": -60
    },
    "id": "hd582LPznPIs",
    "outputId": "279a62e9-0790-4102-c006-58e52f002093"
   },
   "outputs": [
    {
     "name": "stdout",
     "output_type": "stream",
     "text": [
      "Epoch 0: Loss 1.1387802362442017\n",
      "Epoch 10: Loss 0.7484097480773926\n",
      "Epoch 20: Loss 0.44223257899284363\n",
      "Epoch 30: Loss 0.33104637265205383\n",
      "Epoch 40: Loss 0.26934000849723816\n",
      "Epoch 50: Loss 0.21589510142803192\n",
      "Epoch 60: Loss 0.1765541285276413\n",
      "Epoch 70: Loss 0.15784142911434174\n",
      "Epoch 80: Loss 0.1283763200044632\n",
      "Epoch 90: Loss 0.11571115255355835\n",
      "Epoch 100: Loss 0.1009870320558548\n",
      "Epoch 110: Loss 0.10382680594921112\n",
      "Epoch 120: Loss 0.12218768149614334\n",
      "Epoch 130: Loss 0.10290553420782089\n",
      "Epoch 140: Loss 0.08324898034334183\n",
      "Epoch 150: Loss 0.06919018924236298\n",
      "Epoch 160: Loss 0.05915418267250061\n",
      "Epoch 170: Loss 0.05723487585783005\n",
      "Epoch 180: Loss 0.05050764977931976\n",
      "Epoch 190: Loss 0.05482975021004677\n",
      "Epoch 200: Loss 0.05937863141298294\n",
      "Epoch 210: Loss 0.05688099190592766\n",
      "Epoch 220: Loss 0.04858970642089844\n",
      "Epoch 230: Loss 0.046917498111724854\n",
      "Epoch 240: Loss 0.05248316004872322\n",
      "Epoch 250: Loss 0.04711388051509857\n",
      "Epoch 260: Loss 0.04540685564279556\n"
     ]
    }
   ],
   "source": [
    "import torch\n",
    "from torch.nn import CrossEntropyLoss\n",
    "from torch.optim import Adam\n",
    "\n",
    "device = 'cuda' if torch.cuda.is_available() else 'cpu'\n",
    "model = model.to(device)\n",
    "\n",
    "optimizer = Adam(model.parameters(), lr=0.005, weight_decay=5e-4)\n",
    "optm_func = CrossEntropyLoss()\n",
    "\n",
    "data = data.to(device)\n",
    "\n",
    "model.train()\n",
    "for epoch in range(270):\n",
    "    optimizer.zero_grad()\n",
    "    out = model(data.x, data.edge_index)\n",
    "    loss = optm_func(out[data.train_mask], data.y[data.train_mask])\n",
    "    loss.backward()\n",
    "    optimizer.step()\n",
    "\n",
    "    if epoch % 10 == 0:\n",
    "        print(f\"Epoch {epoch}: Loss {loss.item()}\")"
   ]
  },
  {
   "cell_type": "markdown",
   "metadata": {
    "id": "FGOq5otI1UDV"
   },
   "source": [
    "# Validación"
   ]
  },
  {
   "cell_type": "code",
   "execution_count": 89,
   "metadata": {
    "colab": {
     "base_uri": "https://localhost:8080/",
     "height": 467
    },
    "executionInfo": {
     "elapsed": 457,
     "status": "ok",
     "timestamp": 1734539614258,
     "user": {
      "displayName": "Jorge del Castillo Gómez",
      "userId": "03598089572284782268"
     },
     "user_tz": -60
    },
    "id": "gzqxcoFL1cQH",
    "outputId": "e97b2768-1f95-4e48-8116-7b0d9c846684"
   },
   "outputs": [
    {
     "name": "stdout",
     "output_type": "stream",
     "text": [
      "F1 score: 0.8890140845070422\n"
     ]
    },
    {
     "data": {
      "text/plain": [
       "<Axes: >"
      ]
     },
     "execution_count": 89,
     "metadata": {},
     "output_type": "execute_result"
    },
    {
     "data": {
      "image/png": "[encoded data removed]",
      "text/plain": [
       "<Figure size 640x480 with 2 Axes>"
      ]
     },
     "metadata": {},
     "output_type": "display_data"
    }
   ],
   "source": [
    "import seaborn as sns\n",
    "from sklearn.metrics import confusion_matrix, f1_score\n",
    "\n",
    "model.eval()\n",
    "out = model(data.x, data.edge_index)\n",
    "y_pred = out.argmax(dim=1)[data.val_mask].detach().cpu()\n",
    "y = data.y.argmax(dim=1)[data.val_mask].detach().cpu()\n",
    "\n",
    "print(f\"F1 score: {f1_score(y, y_pred, average='micro')}\")\n",
    "sns.heatmap(confusion_matrix(y, y_pred), annot=True, fmt='g', cmap='Blues')"
   ]
  },
  {
   "cell_type": "markdown",
   "metadata": {
    "id": "XagHI5QV1iAE"
   },
   "source": [
    "# Generar solución para el torneo"
   ]
  },
  {
   "cell_type": "code",
   "execution_count": 90,
   "metadata": {
    "executionInfo": {
     "elapsed": 204,
     "status": "ok",
     "timestamp": 1734539616494,
     "user": {
      "displayName": "Jorge del Castillo Gómez",
      "userId": "03598089572284782268"
     },
     "user_tz": -60
    },
    "id": "PgPBu9b11mf0"
   },
   "outputs": [],
   "source": [
    "dataset.create_test_json(model, 'pred_labels.json', device=device)"
   ]
  }
 ],
 "metadata": {
  "accelerator": "GPU",
  "colab": {
   "collapsed_sections": [
    "MD7Z9yIplQCH",
    "Hik7po3VlR-d",
    "Hh3oGaFOgGja"
   ],
   "gpuType": "T4",
   "provenance": []
  },
  "kernelspec": {
   "display_name": "Python 3 (ipykernel)",
   "language": "python",
   "name": "python3"
  },
  "language_info": {
   "codemirror_mode": {
    "name": "ipython",
    "version": 3
   },
   "file_extension": ".py",
   "mimetype": "text/x-python",
   "name": "python",
   "nbconvert_exporter": "python",
   "pygments_lexer": "ipython3",
   "version": "3.12.3"
  }
 },
 "nbformat": 4,
 "nbformat_minor": 4
}
